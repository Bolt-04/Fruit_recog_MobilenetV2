{
 "cells": [
  {
   "cell_type": "markdown",
   "metadata": {},
   "source": [
    "## --- Model MobileNETv2 --- "
   ]
  },
  {
   "cell_type": "code",
   "execution_count": 15,
   "metadata": {},
   "outputs": [],
   "source": [
    "# Import thư viện\n",
    "import tensorflow as tf\n",
    "from tensorflow.keras.applications import MobileNetV2\n",
    "from tensorflow.keras.models import Model\n",
    "from tensorflow.keras.layers import Dense, Flatten, Dropout, GlobalAveragePooling2D\n",
    "from tensorflow.keras.preprocessing.image import ImageDataGenerator\n",
    "from tensorflow.keras.optimizers import Adam\n",
    "import matplotlib.pyplot as plt\n",
    "import os\n",
    "import numpy as np\n",
    "import cv2\n",
    "from tensorflow.keras.models import load_model\n",
    "from tensorflow.keras.applications.mobilenet_v2 import preprocess_input"
   ]
  },
  {
   "cell_type": "code",
   "execution_count": 3,
   "metadata": {},
   "outputs": [
    {
     "name": "stdout",
     "output_type": "stream",
     "text": [
      "apple Folder has 400 Images\n",
      "apricot Folder has 400 Images\n",
      "avocado Folder has 400 Images\n",
      "banana Folder has 400 Images\n",
      "black_berry Folder has 400 Images\n",
      "black_mullberry Folder has 400 Images\n",
      "coconut Folder has 400 Images\n",
      "cranberry Folder has 400 Images\n",
      "dragonfruit Folder has 400 Images\n",
      "durian Folder has 400 Images\n",
      "fig Folder has 400 Images\n",
      "grape Folder has 400 Images\n",
      "grapefruit Folder has 400 Images\n",
      "guava Folder has 400 Images\n",
      "jackfruit Folder has 400 Images\n",
      "kumquat Folder has 400 Images\n",
      "longan Folder has 400 Images\n",
      "mango Folder has 400 Images\n",
      "mangosteen Folder has 400 Images\n",
      "olive Folder has 400 Images\n",
      "papaya Folder has 400 Images\n",
      "passion_fruit Folder has 400 Images\n",
      "pineapple Folder has 400 Images\n",
      "pomegranate Folder has 400 Images\n",
      "raspberry Folder has 400 Images\n",
      "Images Folder has 10000 Images\n"
     ]
    }
   ],
   "source": [
    "# Đếm ảnh fruit từ folders\n",
    "count = 0 \n",
    "dirs = os.listdir('Fruits Data 25/train/')\n",
    "for dir in dirs:\n",
    "    files = list(os.listdir('Fruits Data 25/train/'+dir))\n",
    "    print( dir +' Folder has '+ str(len(files)) + ' Images')\n",
    "    count = count + len(files)\n",
    "print( 'Images Folder has '+ str(count) + ' Images')"
   ]
  },
  {
   "cell_type": "code",
   "execution_count": 5,
   "metadata": {},
   "outputs": [],
   "source": [
    "base_train = 'Fruits Data 25/train/'\n",
    "base_val = 'Fruits Data 25/val/'\n",
    "IMG_SIZE = 224  # Kích thước ảnh đầu vào (224x224)\n",
    "BATCH_SIZE = 32\n",
    "EPOCHS = 10\n"
   ]
  },
  {
   "cell_type": "code",
   "execution_count": 8,
   "metadata": {},
   "outputs": [
    {
     "name": "stdout",
     "output_type": "stream",
     "text": [
      "Found 10000 images belonging to 25 classes.\n",
      "Found 1250 images belonging to 25 classes.\n"
     ]
    }
   ],
   "source": [
    "# Load và tiền xử lí ảnh từ thư mực có phương pháp tăng cường dữ liệu\n",
    "# tf.data.Dataset có thể thay cho Keras với ImageDataGenerator\n",
    "train_datagen = ImageDataGenerator(\n",
    "    rescale=1./255,         # Chuẩn hóa pixel về [0,1]\n",
    "    rotation_range=30,      # Xoay ảnh ngẫu nhiên trong khoảng 30 độ\n",
    "    width_shift_range=0.2,  # Dịch ngang 20%\n",
    "    height_shift_range=0.2, # Dịch dọc 20%\n",
    "    shear_range=0.2,        # Biến dạng ảnh\n",
    "    zoom_range=0.2,         # Phóng to/thu nhỏ ảnh\n",
    "    horizontal_flip=True    # Lật ảnh ngang\n",
    ")\n",
    "\n",
    "# Tập train\n",
    "train_gen = train_datagen.flow_from_directory(\n",
    "    base_train,\n",
    "    target_size=(IMG_SIZE, IMG_SIZE),\n",
    "    batch_size=BATCH_SIZE,\n",
    "    class_mode='categorical'\n",
    ")\n",
    "\n",
    "# Tập val\n",
    "val_gen = train_datagen.flow_from_directory(\n",
    "    base_val,\n",
    "    target_size=(IMG_SIZE, IMG_SIZE),\n",
    "    batch_size=BATCH_SIZE,\n",
    "    class_mode='categorical'\n",
    ")"
   ]
  },
  {
   "cell_type": "code",
   "execution_count": null,
   "metadata": {},
   "outputs": [],
   "source": [
    "# Thêm AUTOTUNE và shuffe(1000) sau"
   ]
  },
  {
   "cell_type": "code",
   "execution_count": 9,
   "metadata": {},
   "outputs": [
    {
     "name": "stdout",
     "output_type": "stream",
     "text": [
      "Downloading data from https://storage.googleapis.com/tensorflow/keras-applications/mobilenet_v2/mobilenet_v2_weights_tf_dim_ordering_tf_kernels_1.0_224_no_top.h5\n",
      "\u001b[1m9406464/9406464\u001b[0m \u001b[32m━━━━━━━━━━━━━━━━━━━━\u001b[0m\u001b[37m\u001b[0m \u001b[1m1s\u001b[0m 0us/step\n"
     ]
    }
   ],
   "source": [
    "# Load MobileNetV2 đào tạo model trước\n",
    "base_model = MobileNetV2(weights='imagenet', include_top=False, input_shape=(IMG_SIZE, IMG_SIZE, 3))\n",
    "\n",
    "# Đóng băng các lớp của mô hình gốc để chỉ huấn luyện các lớp mới\n",
    "base_model.trainable = False\n",
    "\n",
    "x = base_model.output\n",
    "x = GlobalAveragePooling2D()(x)  # Thay thế FC layer bằng GAP\n",
    "x = Dense(128, activation='relu')(x)\n",
    "x = Dropout(0.5)(x)  # Giúp giảm overfitting\n",
    "predictions = Dense(25, activation='softmax')(x)  # 25 lớp đầu ra\n",
    "\n",
    "# Compile mô hình\n",
    "model = Model(inputs=base_model.input, outputs=predictions)\n",
    "model.compile(optimizer=Adam(learning_rate=0.0001), loss='categorical_crossentropy', metrics=['accuracy'])"
   ]
  },
  {
   "cell_type": "code",
   "execution_count": null,
   "metadata": {},
   "outputs": [],
   "source": [
    "#model.summary()"
   ]
  },
  {
   "cell_type": "code",
   "execution_count": 11,
   "metadata": {},
   "outputs": [
    {
     "name": "stderr",
     "output_type": "stream",
     "text": [
      "C:\\Users\\Quoc Bao\\AppData\\Roaming\\Python\\Python312\\site-packages\\keras\\src\\trainers\\data_adapters\\py_dataset_adapter.py:121: UserWarning: Your `PyDataset` class should call `super().__init__(**kwargs)` in its constructor. `**kwargs` can include `workers`, `use_multiprocessing`, `max_queue_size`. Do not pass these arguments to `fit()`, as they will be ignored.\n",
      "  self._warn_if_super_not_called()\n"
     ]
    },
    {
     "name": "stdout",
     "output_type": "stream",
     "text": [
      "Epoch 1/10\n",
      "\u001b[1m313/313\u001b[0m \u001b[32m━━━━━━━━━━━━━━━━━━━━\u001b[0m\u001b[37m\u001b[0m \u001b[1m390s\u001b[0m 1s/step - accuracy: 0.1008 - loss: 3.2173 - val_accuracy: 0.5312 - val_loss: 2.1522\n",
      "Epoch 2/10\n",
      "\u001b[1m313/313\u001b[0m \u001b[32m━━━━━━━━━━━━━━━━━━━━\u001b[0m\u001b[37m\u001b[0m \u001b[1m256s\u001b[0m 817ms/step - accuracy: 0.3688 - loss: 2.1991 - val_accuracy: 0.6288 - val_loss: 1.5025\n",
      "Epoch 3/10\n",
      "\u001b[1m313/313\u001b[0m \u001b[32m━━━━━━━━━━━━━━━━━━━━\u001b[0m\u001b[37m\u001b[0m \u001b[1m208s\u001b[0m 665ms/step - accuracy: 0.5071 - loss: 1.6970 - val_accuracy: 0.6888 - val_loss: 1.1852\n",
      "Epoch 4/10\n",
      "\u001b[1m313/313\u001b[0m \u001b[32m━━━━━━━━━━━━━━━━━━━━\u001b[0m\u001b[37m\u001b[0m \u001b[1m237s\u001b[0m 757ms/step - accuracy: 0.5687 - loss: 1.4707 - val_accuracy: 0.7216 - val_loss: 1.0583\n",
      "Epoch 5/10\n",
      "\u001b[1m313/313\u001b[0m \u001b[32m━━━━━━━━━━━━━━━━━━━━\u001b[0m\u001b[37m\u001b[0m \u001b[1m251s\u001b[0m 800ms/step - accuracy: 0.6134 - loss: 1.3214 - val_accuracy: 0.7432 - val_loss: 0.9749\n",
      "Epoch 6/10\n",
      "\u001b[1m313/313\u001b[0m \u001b[32m━━━━━━━━━━━━━━━━━━━━\u001b[0m\u001b[37m\u001b[0m \u001b[1m229s\u001b[0m 731ms/step - accuracy: 0.6479 - loss: 1.1883 - val_accuracy: 0.7424 - val_loss: 0.9277\n",
      "Epoch 7/10\n",
      "\u001b[1m313/313\u001b[0m \u001b[32m━━━━━━━━━━━━━━━━━━━━\u001b[0m\u001b[37m\u001b[0m \u001b[1m195s\u001b[0m 623ms/step - accuracy: 0.6726 - loss: 1.1084 - val_accuracy: 0.7640 - val_loss: 0.8511\n",
      "Epoch 8/10\n",
      "\u001b[1m313/313\u001b[0m \u001b[32m━━━━━━━━━━━━━━━━━━━━\u001b[0m\u001b[37m\u001b[0m \u001b[1m206s\u001b[0m 657ms/step - accuracy: 0.6883 - loss: 1.0464 - val_accuracy: 0.7592 - val_loss: 0.8478\n",
      "Epoch 9/10\n",
      "\u001b[1m313/313\u001b[0m \u001b[32m━━━━━━━━━━━━━━━━━━━━\u001b[0m\u001b[37m\u001b[0m \u001b[1m251s\u001b[0m 801ms/step - accuracy: 0.7047 - loss: 1.0004 - val_accuracy: 0.7680 - val_loss: 0.8136\n",
      "Epoch 10/10\n",
      "\u001b[1m313/313\u001b[0m \u001b[32m━━━━━━━━━━━━━━━━━━━━\u001b[0m\u001b[37m\u001b[0m \u001b[1m254s\u001b[0m 810ms/step - accuracy: 0.7167 - loss: 0.9466 - val_accuracy: 0.7752 - val_loss: 0.7643\n"
     ]
    }
   ],
   "source": [
    "# Huấn luyện mô hình\n",
    "history = model.fit(train_gen, validation_data=val_gen, epochs=EPOCHS)"
   ]
  },
  {
   "cell_type": "code",
   "execution_count": 12,
   "metadata": {},
   "outputs": [
    {
     "name": "stderr",
     "output_type": "stream",
     "text": [
      "WARNING:absl:You are saving your model as an HDF5 file via `model.save()` or `keras.saving.save_model(model)`. This file format is considered legacy. We recommend using instead the native Keras format, e.g. `model.save('my_model.keras')` or `keras.saving.save_model(model, 'my_model.keras')`. \n"
     ]
    }
   ],
   "source": [
    "model.save(\"fruit_mobilenetv2_ident.h5\")"
   ]
  },
  {
   "cell_type": "code",
   "execution_count": 14,
   "metadata": {},
   "outputs": [],
   "source": [
    "import keras.saving\n",
    "keras.saving.save_model(model, 'my_model.keras')"
   ]
  },
  {
   "cell_type": "code",
   "execution_count": 13,
   "metadata": {},
   "outputs": [
    {
     "data": {
      "image/png": "[encoded data removed]",
      "text/plain": [
       "<Figure size 640x480 with 1 Axes>"
      ]
     },
     "metadata": {},
     "output_type": "display_data"
    }
   ],
   "source": [
    "# Vẽ biểu đồ kết quả\n",
    "plt.plot(history.history['accuracy'], label='Train Accuracy')\n",
    "plt.plot(history.history['val_accuracy'], label='Validation Accuracy')\n",
    "plt.xlabel('Epochs')\n",
    "plt.ylabel('Accuracy')\n",
    "plt.legend()\n",
    "plt.title('MobileNetV2 - Fruits & Vegetables Classification')\n",
    "plt.show()"
   ]
  },
  {
   "cell_type": "code",
   "execution_count": null,
   "metadata": {},
   "outputs": [
    {
     "name": "stderr",
     "output_type": "stream",
     "text": [
      "C:\\Users\\Quoc Bao\\AppData\\Roaming\\Python\\Python312\\site-packages\\keras\\src\\saving\\saving_lib.py:757: UserWarning: Skipping variable loading for optimizer 'rmsprop', because it has 6 variables whereas the saved optimizer has 10 variables. \n",
      "  saveable.load_own_variables(weights_store.get(inner_path))\n"
     ]
    }
   ],
   "source": [
    "# Load mô hình đã huấn luyện\n",
    "model = load_model(\"my_model.keras\")\n",
    "\n",
    "# Danh sách lớp trái cây (đã cập nhật)\n",
    "class_names = [\n",
    "    'apple', 'apricot', 'avocado', 'banana', 'black_berry', 'black_mullberry', \n",
    "    'coconut', 'cranberry', 'dragonfruit', 'durian', 'fig', 'grape', \n",
    "    'grapefruit', 'guava', 'jackfruit', 'kumquat', 'longan', 'mango', \n",
    "    'mangosteen', 'olive', 'papaya', 'passion_fruit', 'pineapple', \n",
    "    'pomegranate', 'raspberry'\n",
    "]\n",
    "\n",
    "# Hàm nhận diện ảnh\n",
    "def classify_images(image_path):\n",
    "    # Đọc ảnh và resize về 224x224\n",
    "    input_image = tf.keras.utils.load_img(image_path, target_size=(224, 224))\n",
    "    \n",
    "    # Chuyển ảnh thành mảng numpy\n",
    "    input_image_array = tf.keras.utils.img_to_array(input_image)\n",
    "    \n",
    "    # Thêm batch dimension (1, 224, 224, 3)\n",
    "    input_image_exp_dim = tf.expand_dims(input_image_array, axis=0)\n",
    "\n",
    "    # Chuẩn hóa dữ liệu đúng cách\n",
    "    input_image_exp_dim = preprocess_input(input_image_exp_dim)\n",
    "\n",
    "    # Dự đoán\n",
    "    predictions = model.predict(input_image_exp_dim)\n",
    "\n",
    "    # Lấy xác suất trực tiếp từ output của model\n",
    "    result = predictions[0]  \n",
    "\n",
    "    # Lấy lớp dự đoán cao nhất\n",
    "    predicted_class = class_names[np.argmax(result)]\n",
    "    confidence = np.max(result) * 100\n",
    "\n",
    "    # Trả về kết quả\n",
    "    return f\"Ảnh thuộc về {predicted_class} với độ tin cậy {confidence:.2f}%\"\n",
    "\n"
   ]
  },
  {
   "cell_type": "code",
   "execution_count": 84,
   "metadata": {},
   "outputs": [
    {
     "name": "stdout",
     "output_type": "stream",
     "text": [
      "\u001b[1m1/1\u001b[0m \u001b[32m━━━━━━━━━━━━━━━━━━━━\u001b[0m\u001b[37m\u001b[0m \u001b[1m0s\u001b[0m 43ms/step\n",
      "Ảnh thuộc về mango với độ tin cậy 67.16%\n"
     ]
    }
   ],
   "source": [
    "image_path = \"Fruits Data 25\\\\train\\\\mango\\\\440.jpg\"  # Thay bằng ảnh thực tế\n",
    "print(classify_images(image_path))"
   ]
  },
  {
   "cell_type": "markdown",
   "metadata": {},
   "source": []
  }
 ],
 "metadata": {
  "kernelspec": {
   "display_name": "skin",
   "language": "python",
   "name": "python3"
  },
  "language_info": {
   "codemirror_mode": {
    "name": "ipython",
    "version": 3
   },
   "file_extension": ".py",
   "mimetype": "text/x-python",
   "name": "python",
   "nbconvert_exporter": "python",
   "pygments_lexer": "ipython3",
   "version": "3.12.1"
  }
 },
 "nbformat": 4,
 "nbformat_minor": 2
}
